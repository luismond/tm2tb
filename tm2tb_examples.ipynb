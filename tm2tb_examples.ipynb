{
  "nbformat": 4,
  "nbformat_minor": 0,
  "metadata": {
    "colab": {
      "name": "TM2TB examples",
      "provenance": [],
      "collapsed_sections": []
    },
    "kernelspec": {
      "name": "python3",
      "display_name": "Python 3"
    },
    "language_info": {
      "name": "python"
    },
    "accelerator": "GPU"
  },
  "cells": [
    {
      "cell_type": "markdown",
      "source": [
        "## TM2TB \n",
        "\n",
        "tm2tb is a term extraction module with a focus on bilingual data. \n",
        "\n",
        "It uses spaCy's part-of-speech tags and multilingual sentence transformer models to extract and align terms from bilingual sentences and documents.\n",
        "\n",
        "In this notebook you can quickly install its requirements and run basic term extraction examples.\n",
        "\n",
        "If available, **select a runtime with GPU** for fast processing."
      ],
      "metadata": {
        "id": "eMONp_dcXFp1"
      }
    },
    {
      "cell_type": "code",
      "execution_count": null,
      "metadata": {
        "id": "WsdegZIK2UDF"
      },
      "outputs": [],
      "source": [
        "!git clone https://github.com/luismond/tm2tb"
      ]
    },
    {
      "cell_type": "code",
      "source": [
        "cd tm2tb"
      ],
      "metadata": {
        "id": "k3g50QQK2x_T"
      },
      "execution_count": null,
      "outputs": []
    },
    {
      "cell_type": "code",
      "source": [
        "# Install a couple of dependencies which are only needed in this Colab environment."
      ],
      "metadata": {
        "id": "JaO0Rktu_NmR"
      },
      "execution_count": null,
      "outputs": []
    },
    {
      "cell_type": "code",
      "source": [
        "!pip install tf-estimator-nightly==2.8.0.dev2021122109"
      ],
      "metadata": {
        "id": "D7mD9NDC3lMu"
      },
      "execution_count": null,
      "outputs": []
    },
    {
      "cell_type": "code",
      "source": [
        "!pip install folium==0.2.1"
      ],
      "metadata": {
        "id": "iCdGGcEk8yRh"
      },
      "execution_count": null,
      "outputs": []
    },
    {
      "cell_type": "code",
      "source": [
        "! pip install -r requirements.txt"
      ],
      "metadata": {
        "id": "jWuFHIiB3cy6"
      },
      "execution_count": null,
      "outputs": []
    },
    {
      "cell_type": "code",
      "source": [
        "from tm2tb import TermExtractor\n",
        "from tm2tb import BitermExtractor\n",
        "from tm2tb import BitextReader\n",
        "import pandas as pd\n",
        "pd.options.display.width = 200 # to display results table in a compact way"
      ],
      "metadata": {
        "id": "DzvMEzdY9tPa"
      },
      "execution_count": null,
      "outputs": []
    },
    {
      "cell_type": "code",
      "source": [
        "# Extracting terms from a sentence in English\n",
        "en_sentence = (\n",
        "    \"The giant panda, also known as the panda bear (or simply the panda)\"\n",
        "    \" is a bear native to South Central China. It is characterised by its\"\n",
        "    \" bold black-and-white coat and rotund body. The name 'giant panda'\"\n",
        "    \" is sometimes used to distinguish it from the red panda, a neighboring\"\n",
        "    \" musteloid. Though it belongs to the order Carnivora, the giant panda\"\n",
        "    \" is a folivore, with bamboo shoots and leaves making up more than 99%\"\n",
        "    \" of its diet. Giant pandas in the wild will occasionally eat other grasses,\"\n",
        "    \" wild tubers, or even meat in the form of birds, rodents, or carrion.\"\n",
        "    \" In captivity, they may receive honey, eggs, fish, shrub leaves,\"\n",
        "    \" oranges, or bananas.\"\n",
        "    )\n",
        "\n",
        "extractor = TermExtractor(en_sentence)  # Instantiate extractor with sentence\n",
        "terms = extractor.extract_terms()       # Extract terms\n",
        "\n",
        "print(terms[:10])"
      ],
      "metadata": {
        "id": "CXvnVZUY9xsZ"
      },
      "execution_count": null,
      "outputs": []
    },
    {
      "cell_type": "code",
      "source": [
        "# Extracting terms from a sentence in Spanish\n",
        "es_sentence = (\n",
        "    \"El panda gigante, también conocido como oso panda (o simplemente panda),\"\n",
        "    \" es un oso originario del centro-sur de China. Se caracteriza por su\"\n",
        "    \" llamativo pelaje blanco y negro, y su cuerpo rotundo. El nombre 'panda\"\n",
        "    \" gigante' se usa en ocasiones para distinguirlo del panda rojo, un\"\n",
        "    \" mustélido parecido. Aunque pertenece al orden de los carnívoros, el panda\"\n",
        "    \" gigante es folívoro, y más del 99 % de su dieta consiste en brotes y\"\n",
        "    \" hojas de bambú. En la naturaleza, los pandas gigantes comen ocasionalmente\"\n",
        "    \" otras hierbas, tubérculos silvestres o incluso carne de aves, roedores o\"\n",
        "    \" carroña. En cautividad, pueden alimentarse de miel, huevos, pescado, hojas\"\n",
        "    \" de arbustos, naranjas o plátanos.\"\n",
        "    )\n",
        "\n",
        "extractor = TermExtractor(es_sentence)  # Instantiate extractor with sentence\n",
        "terms = extractor.extract_terms()       # Extract terms\n",
        "print(terms[:10])"
      ],
      "metadata": {
        "id": "G1JCsjp5-KfK"
      },
      "execution_count": null,
      "outputs": []
    },
    {
      "cell_type": "code",
      "source": [
        "# Extract and align terms from both sentences\n",
        "extractor = BitermExtractor((en_sentence, es_sentence)) # Instantiate extractor with sentences\n",
        "biterms = extractor.extract_terms()                     # Extract biterms\n",
        "print(biterms[:10])"
      ],
      "metadata": {
        "id": "Xd9MD97g-QST"
      },
      "execution_count": null,
      "outputs": []
    },
    {
      "cell_type": "code",
      "source": [
        "# Extract terms from a bilingual document\n",
        "path = 'tests/panda_bear_english_spanish.csv'\n",
        "bitext = BitextReader(path).read_bitext() # Read bitext\n",
        "extractor = BitermExtractor(bitext)       # Instantiate extractor with bitext\n",
        "biterms = extractor.extract_terms()       # Extract biterms\n",
        "print(biterms[:10])"
      ],
      "metadata": {
        "id": "1intSW_h-x7s"
      },
      "execution_count": null,
      "outputs": []
    },
    {
      "cell_type": "code",
      "source": [
        "# Selecting the terms length (terms)\n",
        "extractor = TermExtractor(en_sentence)\n",
        "terms = extractor.extract_terms(span_range=(2,3))\n",
        "print(terms[:10])"
      ],
      "metadata": {
        "id": "a2XyajBU-2tG"
      },
      "execution_count": null,
      "outputs": []
    },
    {
      "cell_type": "code",
      "source": [
        "# Selecting the parts-of-speech tags (terms)\n",
        "extractor = TermExtractor(en_sentence)\n",
        "terms = extractor.extract_terms(incl_pos=['ADJ', 'ADV'])\n",
        "print(terms[:10])"
      ],
      "metadata": {
        "id": "q273Hj-U-7Y2"
      },
      "execution_count": null,
      "outputs": []
    },
    {
      "cell_type": "code",
      "source": [
        "# Selecting the terms length (biterms)\n",
        "extractor = BitermExtractor((en_sentence, es_sentence))\n",
        "biterms = extractor.extract_terms(span_range=(2,3))\n",
        "print(biterms[:10])"
      ],
      "metadata": {
        "id": "x86_Bs2q-_Og"
      },
      "execution_count": null,
      "outputs": []
    },
    {
      "cell_type": "code",
      "source": [
        "# Selecting the parts-of-speech tags (biterms)\n",
        "extractor = BitermExtractor((en_sentence, es_sentence))\n",
        "biterms = extractor.extract_terms(incl_pos=['ADJ', 'ADV'])\n",
        "print(biterms[:10])"
      ],
      "metadata": {
        "id": "8_eRVq7g_Cgg"
      },
      "execution_count": null,
      "outputs": []
    }
  ]
}